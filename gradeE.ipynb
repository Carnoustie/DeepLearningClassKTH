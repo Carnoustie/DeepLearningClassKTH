{
  "cells": [
    {
      "cell_type": "markdown",
      "metadata": {
        "id": "view-in-github",
        "colab_type": "text"
      },
      "source": [
        "<a href=\"https://colab.research.google.com/github/Carnoustie/DeepLearningClassKTH/blob/main/gradeE.ipynb\" target=\"_parent\"><img src=\"https://colab.research.google.com/assets/colab-badge.svg\" alt=\"Open In Colab\"/></a>"
      ]
    },
    {
      "cell_type": "code",
      "execution_count": 33,
      "id": "885b95c9-0dfd-4901-86df-5efc94669729",
      "metadata": {
        "id": "885b95c9-0dfd-4901-86df-5efc94669729"
      },
      "outputs": [],
      "source": [
        "from tensorflow.keras import datasets, layers, models, regularizers, preprocessing, optimizers\n",
        "from tensorflow.keras.optimizers import SGD\n",
        "import tensorflow as tf\n",
        "import matplotlib.pyplot as plt\n",
        "import numpy as np"
      ]
    },
    {
      "cell_type": "code",
      "execution_count": 34,
      "id": "6f532bd9-7024-44a6-bcb5-d436299796fc",
      "metadata": {
        "id": "6f532bd9-7024-44a6-bcb5-d436299796fc"
      },
      "outputs": [],
      "source": [
        "(trainX,trainLabels), (testX,testLabels) = datasets.cifar10.load_data()\n",
        "\n",
        "#Map pixel values from [0, 255}  to -> [0, 1]\n",
        "#trainX, testX = trainX/255.0 , testX/255\n",
        "#testLabels = to_categorical(testlabels)"
      ]
    },
    {
      "cell_type": "code",
      "source": [
        "trainMean = np.mean(trainX,0)\n",
        "trainDev = np.std(trainX,0)\n",
        "trainX = trainX-trainMean\n",
        "trainX = newX/trainDev\n",
        "\n",
        "testX = trainX-trainMean\n",
        "testX = newX/trainDev\n",
        "\n",
        "\n",
        "print(\"Sanity Check:\\n\\nmean \", np.mean(newX),  \"\\n\\nvar: \", np.std(newX))"
      ],
      "metadata": {
        "colab": {
          "base_uri": "https://localhost:8080/"
        },
        "id": "ydCdZ0JoX9D7",
        "outputId": "351744fe-5137-4265-8ad5-c2cc420b129e"
      },
      "id": "ydCdZ0JoX9D7",
      "execution_count": 35,
      "outputs": [
        {
          "output_type": "stream",
          "name": "stdout",
          "text": [
            "Sanity Check:\n",
            "\n",
            "mean  7.94919685631612e-18 \n",
            "\n",
            "var:  0.9999999999999998\n"
          ]
        }
      ]
    },
    {
      "cell_type": "code",
      "execution_count": 36,
      "id": "3ab8cbb1-4aa7-485b-9468-521891492d34",
      "metadata": {
        "id": "3ab8cbb1-4aa7-485b-9468-521891492d34"
      },
      "outputs": [],
      "source": [
        "trainLabels = tf.keras.utils.to_categorical(trainLabels)\n",
        "testLabels = tf.keras.utils.to_categorical(testLabels)\n",
        "\n",
        "\n"
      ]
    },
    {
      "cell_type": "code",
      "execution_count": null,
      "id": "db803b7e-c695-4f9f-b35a-83b7845dfe4e",
      "metadata": {
        "id": "db803b7e-c695-4f9f-b35a-83b7845dfe4e",
        "outputId": "8b4ea801-ead3-406c-fcaf-c44125bb6f4c"
      },
      "outputs": [
        {
          "name": "stderr",
          "output_type": "stream",
          "text": [
            "2023-04-27 06:16:24.440069: I tensorflow/stream_executor/cuda/cuda_gpu_executor.cc:936] successful NUMA node read from SysFS had negative value (-1), but there must be at least one NUMA node, so returning NUMA node zero\n",
            "2023-04-27 06:16:24.453328: I tensorflow/stream_executor/cuda/cuda_gpu_executor.cc:936] successful NUMA node read from SysFS had negative value (-1), but there must be at least one NUMA node, so returning NUMA node zero\n",
            "2023-04-27 06:16:24.455075: I tensorflow/stream_executor/cuda/cuda_gpu_executor.cc:936] successful NUMA node read from SysFS had negative value (-1), but there must be at least one NUMA node, so returning NUMA node zero\n",
            "2023-04-27 06:16:24.457317: I tensorflow/core/platform/cpu_feature_guard.cc:151] This TensorFlow binary is optimized with oneAPI Deep Neural Network Library (oneDNN) to use the following CPU instructions in performance-critical operations:  AVX2 FMA\n",
            "To enable them in other operations, rebuild TensorFlow with the appropriate compiler flags.\n",
            "2023-04-27 06:16:24.458537: I tensorflow/stream_executor/cuda/cuda_gpu_executor.cc:936] successful NUMA node read from SysFS had negative value (-1), but there must be at least one NUMA node, so returning NUMA node zero\n",
            "2023-04-27 06:16:24.460214: I tensorflow/stream_executor/cuda/cuda_gpu_executor.cc:936] successful NUMA node read from SysFS had negative value (-1), but there must be at least one NUMA node, so returning NUMA node zero\n",
            "2023-04-27 06:16:24.461826: I tensorflow/stream_executor/cuda/cuda_gpu_executor.cc:936] successful NUMA node read from SysFS had negative value (-1), but there must be at least one NUMA node, so returning NUMA node zero\n",
            "2023-04-27 06:16:25.172707: I tensorflow/stream_executor/cuda/cuda_gpu_executor.cc:936] successful NUMA node read from SysFS had negative value (-1), but there must be at least one NUMA node, so returning NUMA node zero\n",
            "2023-04-27 06:16:25.174568: I tensorflow/stream_executor/cuda/cuda_gpu_executor.cc:936] successful NUMA node read from SysFS had negative value (-1), but there must be at least one NUMA node, so returning NUMA node zero\n",
            "2023-04-27 06:16:25.176185: I tensorflow/stream_executor/cuda/cuda_gpu_executor.cc:936] successful NUMA node read from SysFS had negative value (-1), but there must be at least one NUMA node, so returning NUMA node zero\n",
            "2023-04-27 06:16:25.177763: I tensorflow/core/common_runtime/gpu/gpu_device.cc:1525] Created device /job:localhost/replica:0/task:0/device:GPU:0 with 13598 MB memory:  -> device: 0, name: Tesla T4, pci bus id: 0000:00:04.0, compute capability: 7.5\n"
          ]
        }
      ],
      "source": [
        "\n",
        "\n",
        "#Initialize model object and add layers\n",
        "#model = models.Sequential()\n",
        "#model.add(layers.Conv2D(32, (3,3), activation='relu', kernel_regularizer = regularizers.L2(l2=0.002), kernel_initializer='he_uniform',padding='same', input_shape=(32,32,3)))\n",
        "#model.add(layers.Conv2D(32, (3,3), activation='relu', kernel_regularizer = regularizers.L2(l2=0.002), kernel_initializer='he_uniform', padding='same'))\n",
        "#model.add(layers.MaxPooling2D((2,2)))\n",
        "#model.add(layers.Dropout(0.2))\n",
        "#model.add(layers.Conv2D(64, (3,3), activation='relu', kernel_regularizer = regularizers.L2(l2=0.002), kernel_initializer='he_uniform', padding='same'))\n",
        "#model.add(layers.Conv2D(64, (3,3), activation='relu', kernel_regularizer = regularizers.L2(l2=0.002), kernel_initializer='he_uniform', padding='same'))\n",
        "#model.add(layers.MaxPooling2D((2,2)))\n",
        "#model.add(layers.Dropout(0.2))\n",
        "#model.add(layers.Conv2D(128, (3,3), activation='relu', kernel_regularizer = regularizers.L2(l2=0.002), kernel_initializer='he_uniform', padding='same'))\n",
        "#model.add(layers.Conv2D(128, (3,3), activation='relu', kernel_regularizer = regularizers.L2(l2=0.002), kernel_initializer='he_uniform', padding='same'))\n",
        "#model.add(layers.MaxPooling2D((2,2)))\n",
        "#model.add(layers.Dropout(0.2))\n",
        "\n",
        "#model.add(layers.Flatten())\n",
        "#model.add(layers.Dense(128, activation='relu', kernel_regularizer = regularizers.L2(l2=0.002), kernel_initializer='he_uniform'))\n",
        "#model.add(layers.Dropout(0.2))\n",
        "#model.add(layers.Dense(10, activation='softmax'))\n",
        "\n",
        "\n",
        "\n",
        "model = models.Sequential()\n",
        "model.add(layers.Conv2D(32, (3,3), activation='relu', kernel_initializer='he_uniform',padding='same', input_shape=(32,32,3)))\n",
        "model.add(layers.Conv2D(32, (3,3), activation='relu', kernel_initializer='he_uniform', padding='same'))\n",
        "model.add(layers.MaxPooling2D((2,2)))\n",
        "model.add(layers.Dropout(0.2))\n",
        "model.add(layers.Conv2D(64, (3,3), activation='relu', kernel_initializer='he_uniform', padding='same'))\n",
        "model.add(layers.Conv2D(64, (3,3), activation='relu', kernel_initializer='he_uniform', padding='same'))\n",
        "model.add(layers.MaxPooling2D((2,2)))\n",
        "model.add(layers.Dropout(0.2))\n",
        "model.add(layers.Conv2D(128, (3,3), activation='relu', kernel_initializer='he_uniform', padding='same'))\n",
        "model.add(layers.Conv2D(128, (3,3), activation='relu', kernel_initializer='he_uniform', padding='same'))\n",
        "model.add(layers.MaxPooling2D((2,2)))\n",
        "model.add(layers.Dropout(0.2))\n",
        "\n",
        "model.add(layers.Flatten())\n",
        "model.add(layers.Dense(128, activation='relu', kernel_initializer='he_uniform'))\n",
        "model.add(layers.Dropout(0.2))\n",
        "model.add(layers.Dense(10, activation='softmax'))\n",
        "\n",
        "\n",
        "\n",
        "\n",
        "#model = models.Sequential()\n",
        "#model.add(layers.Conv2D(32, (3,3), activation='relu', input_shape=(32,32,3)))\n",
        "#model.add(layers.Conv2D(32, (3,3), activation='relu'))\n",
        "#model.add(layers.MaxPooling2D((2,2)))\n",
        "#model.add(layers.Conv2D(64, (3,3), activation='relu'))\n",
        "#model.add(layers.Conv2D(64, (3,3), activation='relu'))\n",
        "#model.add(layers.MaxPooling2D((2,2)))\n",
        "#model.add(layers.Conv2D(128, (3,3), activation='relu'))\n",
        "#model.add(layers.Conv2D(128, (3,3), activation='relu'))\n",
        "#model.add(layers.MaxPooling2D((2,2)))\n",
        "\n",
        "\n",
        "# example of a 3-block vgg style architecture\n",
        "#model = models.Sequential()\n",
        "#model.add(layers.Conv2D(32, (3, 3), activation='relu', kernel_initializer='he_uniform', padding='same', input_shape=(32, 32, 3)))\n",
        "#model.add(layers.Conv2D(32, (3, 3), activation='relu', kernel_initializer='he_uniform', padding='same'))\n",
        "#model.add(layers.MaxPooling2D((2, 2)))\n",
        "#model.add(layers.Conv2D(64, (3, 3), activation='relu', kernel_initializer='he_uniform', padding='same'))\n",
        "#model.add(layers.Conv2D(64, (3, 3), activation='relu', kernel_initializer='he_uniform', padding='same'))\n",
        "#model.add(layers.MaxPooling2D((2, 2)))\n",
        "#model.add(layers.Conv2D(128, (3, 3), activation='relu', kernel_initializer='he_uniform', padding='same'))\n",
        "#model.add(layers.Conv2D(128, (3, 3), activation='relu', kernel_initializer='he_uniform', padding='same'))\n",
        "#model.add(layers.MaxPooling2D((2, 2)))\n",
        "\n",
        "\n",
        "\n"
      ]
    },
    {
      "cell_type": "code",
      "execution_count": null,
      "id": "f3c37b71-17ac-4b5a-9d72-2f31d87d70f8",
      "metadata": {
        "id": "f3c37b71-17ac-4b5a-9d72-2f31d87d70f8"
      },
      "outputs": [],
      "source": [
        "#model.add(layers.Flatten())\n",
        "#model.add(layers.Dense(128,activation='relu'))\n",
        "#model.add(layers.Dense(10))\n",
        "\n",
        "\n"
      ]
    },
    {
      "cell_type": "code",
      "execution_count": null,
      "id": "d79b1f69-b78e-461a-9203-4d1694289a97",
      "metadata": {
        "id": "d79b1f69-b78e-461a-9203-4d1694289a97",
        "outputId": "443bce89-e85b-48c4-e424-1d785fdd063e"
      },
      "outputs": [
        {
          "name": "stdout",
          "output_type": "stream",
          "text": [
            "Epoch 1/100\n"
          ]
        },
        {
          "name": "stderr",
          "output_type": "stream",
          "text": [
            "2023-04-27 06:17:15.257233: I tensorflow/stream_executor/cuda/cuda_dnn.cc:368] Loaded cuDNN version 8200\n"
          ]
        },
        {
          "name": "stdout",
          "output_type": "stream",
          "text": [
            "781/781 [==============================] - 26s 29ms/step - loss: 1.8953 - accuracy: 0.2908 - val_loss: 1.5444 - val_accuracy: 0.4345\n",
            "Epoch 2/100\n",
            "781/781 [==============================] - 22s 29ms/step - loss: 1.5536 - accuracy: 0.4285 - val_loss: 1.3292 - val_accuracy: 0.5126\n",
            "Epoch 3/100\n",
            "781/781 [==============================] - 23s 29ms/step - loss: 1.3939 - accuracy: 0.4936 - val_loss: 1.1367 - val_accuracy: 0.5940\n",
            "Epoch 4/100\n",
            "781/781 [==============================] - 22s 29ms/step - loss: 1.2648 - accuracy: 0.5450 - val_loss: 1.1309 - val_accuracy: 0.5900\n",
            "Epoch 5/100\n",
            "781/781 [==============================] - 23s 29ms/step - loss: 1.1706 - accuracy: 0.5810 - val_loss: 1.0182 - val_accuracy: 0.6410\n",
            "Epoch 6/100\n",
            "177/781 [=====>........................] - ETA: 16s - loss: 1.1064 - accuracy: 0.6029"
          ]
        }
      ],
      "source": [
        "LearningRate = optimizers.schedules.CosineDecay(0.005, 100*trainX.shape[0],0.002)\n",
        "opt = SGD(LearningRate, momentum=0.9)\n",
        "#model.compile(optimizer=opt, loss='categorical_crossentropy', metrics=['accuracy'])\n",
        "#history = model.fit(trainX, trainLabels, epochs=10, validation_data=(testX, testLabels))\n",
        "\n",
        "generator = preprocessing.image.ImageDataGenerator(width_shift_range=0.1, height_shift_range=0.1, horizontal_flip=True)\n",
        "\n",
        "batches = generator.flow(trainX, trainLabels, batch_size=64)\n",
        "\n",
        "model.compile(optimizer=opt,\n",
        "              loss=tf.keras.losses.CategoricalCrossentropy(),\n",
        "              metrics=['accuracy'])\n",
        "\n",
        "history = model.fit(batches, steps_per_epoch=trainX.shape[0]/64,epochs=100,\n",
        "                    validation_data=(testX, testLabels))"
      ]
    },
    {
      "cell_type": "code",
      "execution_count": null,
      "id": "ac0cbea4-3cd2-43e0-990b-d286ad0129b9",
      "metadata": {
        "id": "ac0cbea4-3cd2-43e0-990b-d286ad0129b9"
      },
      "outputs": [],
      "source": [
        "model.evaluate(testX,testLabels,verbose=0)"
      ]
    },
    {
      "cell_type": "code",
      "execution_count": null,
      "id": "07d2db0c-b088-410f-bff4-b1bda31b7afc",
      "metadata": {
        "id": "07d2db0c-b088-410f-bff4-b1bda31b7afc"
      },
      "outputs": [],
      "source": [
        "#plt.plot(history.history['accuracy'], label='accuracy')\n",
        "#plt.plot(history.history['val_accuracy'], label = 'val_accuracy')\n",
        "#plt.xlabel('Epoch')\n",
        "#plt.ylabel('Accuracy')\n",
        "#plt.ylim([0.5, 1])\n",
        "#plt.legend(loc='lower right')\n",
        "\n",
        "#test_loss, test_acc = model.evaluate(testX,  testLabels, verbose=2)\n",
        "\n",
        "plt.plot(history.history['accuracy'], label='accuracy')\n",
        "plt.plot(history.history['val_accuracy'], label='val_accuracy')\n",
        "plt.xlabel('Epoch iteration')\n",
        "plt.ylabel('Accuracy')\n",
        "plt.ylim([0.5, 1])\n",
        "plt.legend(loc='lower right')\n",
        "plt.savefig('regularize3.png')\n",
        "testLoss, testAccuracy = model.evaluate(testX,testLabels, verbose=2)"
      ]
    }
  ],
  "metadata": {
    "environment": {
      "kernel": "python3",
      "name": "tf2-gpu.2-8.m107",
      "type": "gcloud",
      "uri": "gcr.io/deeplearning-platform-release/tf2-gpu.2-8:m107"
    },
    "kernelspec": {
      "display_name": "Python 3 (ipykernel)",
      "language": "python",
      "name": "python3"
    },
    "language_info": {
      "codemirror_mode": {
        "name": "ipython",
        "version": 3
      },
      "file_extension": ".py",
      "mimetype": "text/x-python",
      "name": "python",
      "nbconvert_exporter": "python",
      "pygments_lexer": "ipython3",
      "version": "3.7.12"
    },
    "colab": {
      "provenance": [],
      "include_colab_link": true
    }
  },
  "nbformat": 4,
  "nbformat_minor": 5
}